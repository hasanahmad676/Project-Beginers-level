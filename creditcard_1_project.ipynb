{
  "nbformat": 4,
  "nbformat_minor": 0,
  "metadata": {
    "colab": {
      "name": "creditcard_1 project.ipynb",
      "provenance": []
    },
    "kernelspec": {
      "name": "python3",
      "display_name": "Python 3"
    },
    "language_info": {
      "name": "python"
    }
  },
  "cells": [
    {
      "cell_type": "code",
      "metadata": {
        "id": "Jb1wyc4kNWBj"
      },
      "source": [
        "import pandas as pd\n",
        "import numpy as np\n",
        "from sklearn.model_selection import train_test_split\n",
        "from sklearn.linear_model import LogisticRegression\n",
        "from sklearn.metrics import accuracy_score"
      ],
      "execution_count": 1,
      "outputs": []
    },
    {
      "cell_type": "code",
      "metadata": {
        "id": "vAdqVVe8ZHS6"
      },
      "source": [
        "df=pd.read_csv(\"/content/creditcard_1.csv\")"
      ],
      "execution_count": 2,
      "outputs": []
    },
    {
      "cell_type": "code",
      "metadata": {
        "colab": {
          "base_uri": "https://localhost:8080/",
          "height": 224
        },
        "id": "9-D9nUKUZHVr",
        "outputId": "9f286d21-643a-4eb2-c196-c194d51ca6e0"
      },
      "source": [
        "df.head()"
      ],
      "execution_count": 3,
      "outputs": [
        {
          "output_type": "execute_result",
          "data": {
            "text/html": [
              "<div>\n",
              "<style scoped>\n",
              "    .dataframe tbody tr th:only-of-type {\n",
              "        vertical-align: middle;\n",
              "    }\n",
              "\n",
              "    .dataframe tbody tr th {\n",
              "        vertical-align: top;\n",
              "    }\n",
              "\n",
              "    .dataframe thead th {\n",
              "        text-align: right;\n",
              "    }\n",
              "</style>\n",
              "<table border=\"1\" class=\"dataframe\">\n",
              "  <thead>\n",
              "    <tr style=\"text-align: right;\">\n",
              "      <th></th>\n",
              "      <th>Time</th>\n",
              "      <th>V1</th>\n",
              "      <th>V2</th>\n",
              "      <th>V3</th>\n",
              "      <th>V4</th>\n",
              "      <th>V5</th>\n",
              "      <th>V6</th>\n",
              "      <th>V7</th>\n",
              "      <th>V8</th>\n",
              "      <th>V9</th>\n",
              "      <th>V10</th>\n",
              "      <th>V11</th>\n",
              "      <th>V12</th>\n",
              "      <th>V13</th>\n",
              "      <th>V14</th>\n",
              "      <th>V15</th>\n",
              "      <th>V16</th>\n",
              "      <th>V17</th>\n",
              "      <th>V18</th>\n",
              "      <th>V19</th>\n",
              "      <th>V20</th>\n",
              "      <th>V21</th>\n",
              "      <th>V22</th>\n",
              "      <th>V23</th>\n",
              "      <th>V24</th>\n",
              "      <th>V25</th>\n",
              "      <th>V26</th>\n",
              "      <th>V27</th>\n",
              "      <th>V28</th>\n",
              "      <th>Amount</th>\n",
              "      <th>Class</th>\n",
              "    </tr>\n",
              "  </thead>\n",
              "  <tbody>\n",
              "    <tr>\n",
              "      <th>0</th>\n",
              "      <td>0</td>\n",
              "      <td>-1.359807</td>\n",
              "      <td>-0.072781</td>\n",
              "      <td>2.536347</td>\n",
              "      <td>1.378155</td>\n",
              "      <td>-0.338321</td>\n",
              "      <td>0.462388</td>\n",
              "      <td>0.239599</td>\n",
              "      <td>0.098698</td>\n",
              "      <td>0.363787</td>\n",
              "      <td>0.090794</td>\n",
              "      <td>-0.551600</td>\n",
              "      <td>-0.617801</td>\n",
              "      <td>-0.991390</td>\n",
              "      <td>-0.311169</td>\n",
              "      <td>1.468177</td>\n",
              "      <td>-0.470401</td>\n",
              "      <td>0.207971</td>\n",
              "      <td>0.025791</td>\n",
              "      <td>0.403993</td>\n",
              "      <td>0.251412</td>\n",
              "      <td>-0.018307</td>\n",
              "      <td>0.277838</td>\n",
              "      <td>-0.110474</td>\n",
              "      <td>0.066928</td>\n",
              "      <td>0.128539</td>\n",
              "      <td>-0.189115</td>\n",
              "      <td>0.133558</td>\n",
              "      <td>-0.021053</td>\n",
              "      <td>149.62</td>\n",
              "      <td>0.0</td>\n",
              "    </tr>\n",
              "    <tr>\n",
              "      <th>1</th>\n",
              "      <td>0</td>\n",
              "      <td>1.191857</td>\n",
              "      <td>0.266151</td>\n",
              "      <td>0.166480</td>\n",
              "      <td>0.448154</td>\n",
              "      <td>0.060018</td>\n",
              "      <td>-0.082361</td>\n",
              "      <td>-0.078803</td>\n",
              "      <td>0.085102</td>\n",
              "      <td>-0.255425</td>\n",
              "      <td>-0.166974</td>\n",
              "      <td>1.612727</td>\n",
              "      <td>1.065235</td>\n",
              "      <td>0.489095</td>\n",
              "      <td>-0.143772</td>\n",
              "      <td>0.635558</td>\n",
              "      <td>0.463917</td>\n",
              "      <td>-0.114805</td>\n",
              "      <td>-0.183361</td>\n",
              "      <td>-0.145783</td>\n",
              "      <td>-0.069083</td>\n",
              "      <td>-0.225775</td>\n",
              "      <td>-0.638672</td>\n",
              "      <td>0.101288</td>\n",
              "      <td>-0.339846</td>\n",
              "      <td>0.167170</td>\n",
              "      <td>0.125895</td>\n",
              "      <td>-0.008983</td>\n",
              "      <td>0.014724</td>\n",
              "      <td>2.69</td>\n",
              "      <td>0.0</td>\n",
              "    </tr>\n",
              "    <tr>\n",
              "      <th>2</th>\n",
              "      <td>1</td>\n",
              "      <td>-1.358354</td>\n",
              "      <td>-1.340163</td>\n",
              "      <td>1.773209</td>\n",
              "      <td>0.379780</td>\n",
              "      <td>-0.503198</td>\n",
              "      <td>1.800499</td>\n",
              "      <td>0.791461</td>\n",
              "      <td>0.247676</td>\n",
              "      <td>-1.514654</td>\n",
              "      <td>0.207643</td>\n",
              "      <td>0.624501</td>\n",
              "      <td>0.066084</td>\n",
              "      <td>0.717293</td>\n",
              "      <td>-0.165946</td>\n",
              "      <td>2.345865</td>\n",
              "      <td>-2.890083</td>\n",
              "      <td>1.109969</td>\n",
              "      <td>-0.121359</td>\n",
              "      <td>-2.261857</td>\n",
              "      <td>0.524980</td>\n",
              "      <td>0.247998</td>\n",
              "      <td>0.771679</td>\n",
              "      <td>0.909412</td>\n",
              "      <td>-0.689281</td>\n",
              "      <td>-0.327642</td>\n",
              "      <td>-0.139097</td>\n",
              "      <td>-0.055353</td>\n",
              "      <td>-0.059752</td>\n",
              "      <td>378.66</td>\n",
              "      <td>0.0</td>\n",
              "    </tr>\n",
              "    <tr>\n",
              "      <th>3</th>\n",
              "      <td>1</td>\n",
              "      <td>-0.966272</td>\n",
              "      <td>-0.185226</td>\n",
              "      <td>1.792993</td>\n",
              "      <td>-0.863291</td>\n",
              "      <td>-0.010309</td>\n",
              "      <td>1.247203</td>\n",
              "      <td>0.237609</td>\n",
              "      <td>0.377436</td>\n",
              "      <td>-1.387024</td>\n",
              "      <td>-0.054952</td>\n",
              "      <td>-0.226487</td>\n",
              "      <td>0.178228</td>\n",
              "      <td>0.507757</td>\n",
              "      <td>-0.287924</td>\n",
              "      <td>-0.631418</td>\n",
              "      <td>-1.059647</td>\n",
              "      <td>-0.684093</td>\n",
              "      <td>1.965775</td>\n",
              "      <td>-1.232622</td>\n",
              "      <td>-0.208038</td>\n",
              "      <td>-0.108300</td>\n",
              "      <td>0.005274</td>\n",
              "      <td>-0.190321</td>\n",
              "      <td>-1.175575</td>\n",
              "      <td>0.647376</td>\n",
              "      <td>-0.221929</td>\n",
              "      <td>0.062723</td>\n",
              "      <td>0.061458</td>\n",
              "      <td>123.50</td>\n",
              "      <td>0.0</td>\n",
              "    </tr>\n",
              "    <tr>\n",
              "      <th>4</th>\n",
              "      <td>2</td>\n",
              "      <td>-1.158233</td>\n",
              "      <td>0.877737</td>\n",
              "      <td>1.548718</td>\n",
              "      <td>0.403034</td>\n",
              "      <td>-0.407193</td>\n",
              "      <td>0.095921</td>\n",
              "      <td>0.592941</td>\n",
              "      <td>-0.270533</td>\n",
              "      <td>0.817739</td>\n",
              "      <td>0.753074</td>\n",
              "      <td>-0.822843</td>\n",
              "      <td>0.538196</td>\n",
              "      <td>1.345852</td>\n",
              "      <td>-1.119670</td>\n",
              "      <td>0.175121</td>\n",
              "      <td>-0.451449</td>\n",
              "      <td>-0.237033</td>\n",
              "      <td>-0.038195</td>\n",
              "      <td>0.803487</td>\n",
              "      <td>0.408542</td>\n",
              "      <td>-0.009431</td>\n",
              "      <td>0.798278</td>\n",
              "      <td>-0.137458</td>\n",
              "      <td>0.141267</td>\n",
              "      <td>-0.206010</td>\n",
              "      <td>0.502292</td>\n",
              "      <td>0.219422</td>\n",
              "      <td>0.215153</td>\n",
              "      <td>69.99</td>\n",
              "      <td>0.0</td>\n",
              "    </tr>\n",
              "  </tbody>\n",
              "</table>\n",
              "</div>"
            ],
            "text/plain": [
              "   Time        V1        V2        V3  ...       V27       V28  Amount  Class\n",
              "0     0 -1.359807 -0.072781  2.536347  ...  0.133558 -0.021053  149.62    0.0\n",
              "1     0  1.191857  0.266151  0.166480  ... -0.008983  0.014724    2.69    0.0\n",
              "2     1 -1.358354 -1.340163  1.773209  ... -0.055353 -0.059752  378.66    0.0\n",
              "3     1 -0.966272 -0.185226  1.792993  ...  0.062723  0.061458  123.50    0.0\n",
              "4     2 -1.158233  0.877737  1.548718  ...  0.219422  0.215153   69.99    0.0\n",
              "\n",
              "[5 rows x 31 columns]"
            ]
          },
          "metadata": {},
          "execution_count": 3
        }
      ]
    },
    {
      "cell_type": "code",
      "metadata": {
        "colab": {
          "base_uri": "https://localhost:8080/"
        },
        "id": "UjlhoA6VZHY5",
        "outputId": "9aa979b4-75c2-45e2-d843-d2492f799385"
      },
      "source": [
        "df.info()"
      ],
      "execution_count": 4,
      "outputs": [
        {
          "output_type": "stream",
          "name": "stdout",
          "text": [
            "<class 'pandas.core.frame.DataFrame'>\n",
            "RangeIndex: 15936 entries, 0 to 15935\n",
            "Data columns (total 31 columns):\n",
            " #   Column  Non-Null Count  Dtype  \n",
            "---  ------  --------------  -----  \n",
            " 0   Time    15936 non-null  int64  \n",
            " 1   V1      15936 non-null  float64\n",
            " 2   V2      15936 non-null  float64\n",
            " 3   V3      15936 non-null  float64\n",
            " 4   V4      15936 non-null  float64\n",
            " 5   V5      15936 non-null  float64\n",
            " 6   V6      15936 non-null  float64\n",
            " 7   V7      15936 non-null  float64\n",
            " 8   V8      15936 non-null  float64\n",
            " 9   V9      15936 non-null  float64\n",
            " 10  V10     15936 non-null  float64\n",
            " 11  V11     15936 non-null  float64\n",
            " 12  V12     15936 non-null  float64\n",
            " 13  V13     15936 non-null  float64\n",
            " 14  V14     15936 non-null  float64\n",
            " 15  V15     15936 non-null  float64\n",
            " 16  V16     15936 non-null  float64\n",
            " 17  V17     15936 non-null  float64\n",
            " 18  V18     15936 non-null  float64\n",
            " 19  V19     15936 non-null  float64\n",
            " 20  V20     15936 non-null  float64\n",
            " 21  V21     15936 non-null  float64\n",
            " 22  V22     15936 non-null  float64\n",
            " 23  V23     15935 non-null  float64\n",
            " 24  V24     15935 non-null  float64\n",
            " 25  V25     15935 non-null  float64\n",
            " 26  V26     15935 non-null  float64\n",
            " 27  V27     15935 non-null  float64\n",
            " 28  V28     15935 non-null  float64\n",
            " 29  Amount  15935 non-null  float64\n",
            " 30  Class   15935 non-null  float64\n",
            "dtypes: float64(30), int64(1)\n",
            "memory usage: 3.8 MB\n"
          ]
        }
      ]
    },
    {
      "cell_type": "code",
      "metadata": {
        "colab": {
          "base_uri": "https://localhost:8080/"
        },
        "id": "SEm4UaObZHb1",
        "outputId": "23f7baf8-2936-4447-8b33-9f4abaab646d"
      },
      "source": [
        "df.isnull().sum()"
      ],
      "execution_count": 5,
      "outputs": [
        {
          "output_type": "execute_result",
          "data": {
            "text/plain": [
              "Time      0\n",
              "V1        0\n",
              "V2        0\n",
              "V3        0\n",
              "V4        0\n",
              "V5        0\n",
              "V6        0\n",
              "V7        0\n",
              "V8        0\n",
              "V9        0\n",
              "V10       0\n",
              "V11       0\n",
              "V12       0\n",
              "V13       0\n",
              "V14       0\n",
              "V15       0\n",
              "V16       0\n",
              "V17       0\n",
              "V18       0\n",
              "V19       0\n",
              "V20       0\n",
              "V21       0\n",
              "V22       0\n",
              "V23       1\n",
              "V24       1\n",
              "V25       1\n",
              "V26       1\n",
              "V27       1\n",
              "V28       1\n",
              "Amount    1\n",
              "Class     1\n",
              "dtype: int64"
            ]
          },
          "metadata": {},
          "execution_count": 5
        }
      ]
    },
    {
      "cell_type": "code",
      "metadata": {
        "colab": {
          "base_uri": "https://localhost:8080/"
        },
        "id": "fjS9EYgwZHek",
        "outputId": "ce158e22-3c9c-4b39-b808-555132da563b"
      },
      "source": [
        "df['Class'].value_counts()"
      ],
      "execution_count": 6,
      "outputs": [
        {
          "output_type": "execute_result",
          "data": {
            "text/plain": [
              "0.0    15862\n",
              "1.0       73\n",
              "Name: Class, dtype: int64"
            ]
          },
          "metadata": {},
          "execution_count": 6
        }
      ]
    },
    {
      "cell_type": "code",
      "metadata": {
        "id": "RGNikO4FZHhc"
      },
      "source": [
        "real=df[df.Class==0]\n",
        "fraud=df[df.Class==1]"
      ],
      "execution_count": 7,
      "outputs": []
    },
    {
      "cell_type": "code",
      "metadata": {
        "colab": {
          "base_uri": "https://localhost:8080/"
        },
        "id": "aow8W7RvZHkH",
        "outputId": "d17141ff-d439-48aa-e8e2-1e096b17e800"
      },
      "source": [
        "real.Amount.describe()"
      ],
      "execution_count": 8,
      "outputs": [
        {
          "output_type": "execute_result",
          "data": {
            "text/plain": [
              "count    15862.000000\n",
              "mean        66.280151\n",
              "std        188.898885\n",
              "min          0.000000\n",
              "25%          5.522500\n",
              "50%         15.950000\n",
              "75%         53.890000\n",
              "max       7712.430000\n",
              "Name: Amount, dtype: float64"
            ]
          },
          "metadata": {},
          "execution_count": 8
        }
      ]
    },
    {
      "cell_type": "code",
      "metadata": {
        "colab": {
          "base_uri": "https://localhost:8080/"
        },
        "id": "bd4LVRhdZHnV",
        "outputId": "9d42d03f-139f-4846-8022-7ea583e86c5e"
      },
      "source": [
        "fraud.Amount.describe()"
      ],
      "execution_count": 9,
      "outputs": [
        {
          "output_type": "execute_result",
          "data": {
            "text/plain": [
              "count      73.000000\n",
              "mean       90.307123\n",
              "std       271.634360\n",
              "min         0.000000\n",
              "25%         1.000000\n",
              "50%         1.000000\n",
              "75%        99.990000\n",
              "max      1809.680000\n",
              "Name: Amount, dtype: float64"
            ]
          },
          "metadata": {},
          "execution_count": 9
        }
      ]
    },
    {
      "cell_type": "code",
      "metadata": {
        "colab": {
          "base_uri": "https://localhost:8080/",
          "height": 162
        },
        "id": "5PKlQNV_ZHp-",
        "outputId": "c2f42791-6077-4f7c-8028-fd7bdcfa7910"
      },
      "source": [
        "df.groupby('Class').mean()"
      ],
      "execution_count": 10,
      "outputs": [
        {
          "output_type": "execute_result",
          "data": {
            "text/html": [
              "<div>\n",
              "<style scoped>\n",
              "    .dataframe tbody tr th:only-of-type {\n",
              "        vertical-align: middle;\n",
              "    }\n",
              "\n",
              "    .dataframe tbody tr th {\n",
              "        vertical-align: top;\n",
              "    }\n",
              "\n",
              "    .dataframe thead th {\n",
              "        text-align: right;\n",
              "    }\n",
              "</style>\n",
              "<table border=\"1\" class=\"dataframe\">\n",
              "  <thead>\n",
              "    <tr style=\"text-align: right;\">\n",
              "      <th></th>\n",
              "      <th>Time</th>\n",
              "      <th>V1</th>\n",
              "      <th>V2</th>\n",
              "      <th>V3</th>\n",
              "      <th>V4</th>\n",
              "      <th>V5</th>\n",
              "      <th>V6</th>\n",
              "      <th>V7</th>\n",
              "      <th>V8</th>\n",
              "      <th>V9</th>\n",
              "      <th>V10</th>\n",
              "      <th>V11</th>\n",
              "      <th>V12</th>\n",
              "      <th>V13</th>\n",
              "      <th>V14</th>\n",
              "      <th>V15</th>\n",
              "      <th>V16</th>\n",
              "      <th>V17</th>\n",
              "      <th>V18</th>\n",
              "      <th>V19</th>\n",
              "      <th>V20</th>\n",
              "      <th>V21</th>\n",
              "      <th>V22</th>\n",
              "      <th>V23</th>\n",
              "      <th>V24</th>\n",
              "      <th>V25</th>\n",
              "      <th>V26</th>\n",
              "      <th>V27</th>\n",
              "      <th>V28</th>\n",
              "      <th>Amount</th>\n",
              "    </tr>\n",
              "    <tr>\n",
              "      <th>Class</th>\n",
              "      <th></th>\n",
              "      <th></th>\n",
              "      <th></th>\n",
              "      <th></th>\n",
              "      <th></th>\n",
              "      <th></th>\n",
              "      <th></th>\n",
              "      <th></th>\n",
              "      <th></th>\n",
              "      <th></th>\n",
              "      <th></th>\n",
              "      <th></th>\n",
              "      <th></th>\n",
              "      <th></th>\n",
              "      <th></th>\n",
              "      <th></th>\n",
              "      <th></th>\n",
              "      <th></th>\n",
              "      <th></th>\n",
              "      <th></th>\n",
              "      <th></th>\n",
              "      <th></th>\n",
              "      <th></th>\n",
              "      <th></th>\n",
              "      <th></th>\n",
              "      <th></th>\n",
              "      <th></th>\n",
              "      <th></th>\n",
              "      <th></th>\n",
              "      <th></th>\n",
              "    </tr>\n",
              "  </thead>\n",
              "  <tbody>\n",
              "    <tr>\n",
              "      <th>0.0</th>\n",
              "      <td>12104.432165</td>\n",
              "      <td>-0.219072</td>\n",
              "      <td>0.25000</td>\n",
              "      <td>0.862854</td>\n",
              "      <td>0.272641</td>\n",
              "      <td>-0.105868</td>\n",
              "      <td>0.124522</td>\n",
              "      <td>-0.112681</td>\n",
              "      <td>-0.016178</td>\n",
              "      <td>0.879120</td>\n",
              "      <td>-0.254407</td>\n",
              "      <td>0.777591</td>\n",
              "      <td>-1.348599</td>\n",
              "      <td>0.891758</td>\n",
              "      <td>0.775426</td>\n",
              "      <td>-0.135132</td>\n",
              "      <td>-0.009028</td>\n",
              "      <td>0.400976</td>\n",
              "      <td>-0.008838</td>\n",
              "      <td>-0.085272</td>\n",
              "      <td>0.028173</td>\n",
              "      <td>-0.064056</td>\n",
              "      <td>-0.161585</td>\n",
              "      <td>-0.035040</td>\n",
              "      <td>0.013076</td>\n",
              "      <td>0.117023</td>\n",
              "      <td>0.037111</td>\n",
              "      <td>0.011206</td>\n",
              "      <td>0.005907</td>\n",
              "      <td>66.280151</td>\n",
              "    </tr>\n",
              "    <tr>\n",
              "      <th>1.0</th>\n",
              "      <td>15559.643836</td>\n",
              "      <td>-7.929807</td>\n",
              "      <td>6.19312</td>\n",
              "      <td>-11.997831</td>\n",
              "      <td>6.555050</td>\n",
              "      <td>-5.474984</td>\n",
              "      <td>-2.480356</td>\n",
              "      <td>-8.354317</td>\n",
              "      <td>3.668478</td>\n",
              "      <td>-3.086988</td>\n",
              "      <td>-7.573464</td>\n",
              "      <td>6.464977</td>\n",
              "      <td>-9.815642</td>\n",
              "      <td>0.509696</td>\n",
              "      <td>-9.345441</td>\n",
              "      <td>-0.205216</td>\n",
              "      <td>-5.349574</td>\n",
              "      <td>-8.377201</td>\n",
              "      <td>-2.901321</td>\n",
              "      <td>0.404317</td>\n",
              "      <td>0.671905</td>\n",
              "      <td>0.441100</td>\n",
              "      <td>-0.295856</td>\n",
              "      <td>-0.358994</td>\n",
              "      <td>-0.328925</td>\n",
              "      <td>0.216076</td>\n",
              "      <td>0.209323</td>\n",
              "      <td>0.927187</td>\n",
              "      <td>0.061380</td>\n",
              "      <td>90.307123</td>\n",
              "    </tr>\n",
              "  </tbody>\n",
              "</table>\n",
              "</div>"
            ],
            "text/plain": [
              "               Time        V1       V2  ...       V27       V28     Amount\n",
              "Class                                   ...                               \n",
              "0.0    12104.432165 -0.219072  0.25000  ...  0.011206  0.005907  66.280151\n",
              "1.0    15559.643836 -7.929807  6.19312  ...  0.927187  0.061380  90.307123\n",
              "\n",
              "[2 rows x 30 columns]"
            ]
          },
          "metadata": {},
          "execution_count": 10
        }
      ]
    },
    {
      "cell_type": "code",
      "metadata": {
        "id": "iph_D3vhZHs7"
      },
      "source": [
        "real_sample=real.sample(n=73)"
      ],
      "execution_count": 11,
      "outputs": []
    },
    {
      "cell_type": "code",
      "metadata": {
        "id": "D0VYVG_CbLLa"
      },
      "source": [
        "df_new=pd.concat([real_sample,fraud],axis=0)"
      ],
      "execution_count": 12,
      "outputs": []
    },
    {
      "cell_type": "code",
      "metadata": {
        "colab": {
          "base_uri": "https://localhost:8080/",
          "height": 224
        },
        "id": "HRP3NRmabXj-",
        "outputId": "8192ce76-70b3-4ee7-aac9-80b6bf044087"
      },
      "source": [
        "df_new.head()"
      ],
      "execution_count": 13,
      "outputs": [
        {
          "output_type": "execute_result",
          "data": {
            "text/html": [
              "<div>\n",
              "<style scoped>\n",
              "    .dataframe tbody tr th:only-of-type {\n",
              "        vertical-align: middle;\n",
              "    }\n",
              "\n",
              "    .dataframe tbody tr th {\n",
              "        vertical-align: top;\n",
              "    }\n",
              "\n",
              "    .dataframe thead th {\n",
              "        text-align: right;\n",
              "    }\n",
              "</style>\n",
              "<table border=\"1\" class=\"dataframe\">\n",
              "  <thead>\n",
              "    <tr style=\"text-align: right;\">\n",
              "      <th></th>\n",
              "      <th>Time</th>\n",
              "      <th>V1</th>\n",
              "      <th>V2</th>\n",
              "      <th>V3</th>\n",
              "      <th>V4</th>\n",
              "      <th>V5</th>\n",
              "      <th>V6</th>\n",
              "      <th>V7</th>\n",
              "      <th>V8</th>\n",
              "      <th>V9</th>\n",
              "      <th>V10</th>\n",
              "      <th>V11</th>\n",
              "      <th>V12</th>\n",
              "      <th>V13</th>\n",
              "      <th>V14</th>\n",
              "      <th>V15</th>\n",
              "      <th>V16</th>\n",
              "      <th>V17</th>\n",
              "      <th>V18</th>\n",
              "      <th>V19</th>\n",
              "      <th>V20</th>\n",
              "      <th>V21</th>\n",
              "      <th>V22</th>\n",
              "      <th>V23</th>\n",
              "      <th>V24</th>\n",
              "      <th>V25</th>\n",
              "      <th>V26</th>\n",
              "      <th>V27</th>\n",
              "      <th>V28</th>\n",
              "      <th>Amount</th>\n",
              "      <th>Class</th>\n",
              "    </tr>\n",
              "  </thead>\n",
              "  <tbody>\n",
              "    <tr>\n",
              "      <th>8120</th>\n",
              "      <td>11027</td>\n",
              "      <td>1.266732</td>\n",
              "      <td>-0.051053</td>\n",
              "      <td>0.535732</td>\n",
              "      <td>0.002553</td>\n",
              "      <td>-0.326884</td>\n",
              "      <td>-0.007526</td>\n",
              "      <td>-0.542309</td>\n",
              "      <td>-0.013727</td>\n",
              "      <td>1.497688</td>\n",
              "      <td>-0.357063</td>\n",
              "      <td>1.609317</td>\n",
              "      <td>-1.829100</td>\n",
              "      <td>2.111363</td>\n",
              "      <td>1.568731</td>\n",
              "      <td>-0.084947</td>\n",
              "      <td>0.924193</td>\n",
              "      <td>-0.285850</td>\n",
              "      <td>0.902005</td>\n",
              "      <td>0.211166</td>\n",
              "      <td>-0.027308</td>\n",
              "      <td>-0.069450</td>\n",
              "      <td>0.043013</td>\n",
              "      <td>-0.136633</td>\n",
              "      <td>-0.498674</td>\n",
              "      <td>0.301505</td>\n",
              "      <td>1.066166</td>\n",
              "      <td>-0.092579</td>\n",
              "      <td>-0.012657</td>\n",
              "      <td>14.95</td>\n",
              "      <td>0.0</td>\n",
              "    </tr>\n",
              "    <tr>\n",
              "      <th>15635</th>\n",
              "      <td>27043</td>\n",
              "      <td>1.304407</td>\n",
              "      <td>-0.617224</td>\n",
              "      <td>-0.351864</td>\n",
              "      <td>-0.514318</td>\n",
              "      <td>-0.618867</td>\n",
              "      <td>-0.604222</td>\n",
              "      <td>-0.434552</td>\n",
              "      <td>-0.118507</td>\n",
              "      <td>-0.452645</td>\n",
              "      <td>0.115331</td>\n",
              "      <td>-1.032456</td>\n",
              "      <td>-1.312476</td>\n",
              "      <td>-0.622042</td>\n",
              "      <td>-1.228067</td>\n",
              "      <td>0.220435</td>\n",
              "      <td>1.401378</td>\n",
              "      <td>1.053639</td>\n",
              "      <td>-0.864553</td>\n",
              "      <td>0.964594</td>\n",
              "      <td>0.212781</td>\n",
              "      <td>-0.100464</td>\n",
              "      <td>-0.467405</td>\n",
              "      <td>-0.170314</td>\n",
              "      <td>-0.547987</td>\n",
              "      <td>0.533578</td>\n",
              "      <td>-0.254039</td>\n",
              "      <td>0.001741</td>\n",
              "      <td>0.040590</td>\n",
              "      <td>85.80</td>\n",
              "      <td>0.0</td>\n",
              "    </tr>\n",
              "    <tr>\n",
              "      <th>14637</th>\n",
              "      <td>25852</td>\n",
              "      <td>1.093357</td>\n",
              "      <td>-0.305285</td>\n",
              "      <td>-1.215407</td>\n",
              "      <td>0.039584</td>\n",
              "      <td>1.994801</td>\n",
              "      <td>3.464414</td>\n",
              "      <td>-0.423937</td>\n",
              "      <td>0.798041</td>\n",
              "      <td>-0.003063</td>\n",
              "      <td>0.018089</td>\n",
              "      <td>-0.214785</td>\n",
              "      <td>0.016305</td>\n",
              "      <td>0.042029</td>\n",
              "      <td>0.420018</td>\n",
              "      <td>1.202645</td>\n",
              "      <td>0.483531</td>\n",
              "      <td>-0.976964</td>\n",
              "      <td>0.543655</td>\n",
              "      <td>-0.148551</td>\n",
              "      <td>0.191356</td>\n",
              "      <td>0.172466</td>\n",
              "      <td>0.197060</td>\n",
              "      <td>-0.283891</td>\n",
              "      <td>1.028673</td>\n",
              "      <td>0.844507</td>\n",
              "      <td>-0.203789</td>\n",
              "      <td>0.009522</td>\n",
              "      <td>0.033203</td>\n",
              "      <td>104.59</td>\n",
              "      <td>0.0</td>\n",
              "    </tr>\n",
              "    <tr>\n",
              "      <th>5957</th>\n",
              "      <td>6604</td>\n",
              "      <td>-1.357564</td>\n",
              "      <td>-0.731763</td>\n",
              "      <td>0.776146</td>\n",
              "      <td>0.946116</td>\n",
              "      <td>1.839924</td>\n",
              "      <td>-1.064402</td>\n",
              "      <td>-1.069183</td>\n",
              "      <td>0.215824</td>\n",
              "      <td>1.293835</td>\n",
              "      <td>-0.015102</td>\n",
              "      <td>2.155400</td>\n",
              "      <td>-2.534068</td>\n",
              "      <td>0.360427</td>\n",
              "      <td>1.545754</td>\n",
              "      <td>0.279528</td>\n",
              "      <td>0.212672</td>\n",
              "      <td>0.915642</td>\n",
              "      <td>0.500434</td>\n",
              "      <td>0.400837</td>\n",
              "      <td>-0.284600</td>\n",
              "      <td>-0.385664</td>\n",
              "      <td>-0.678332</td>\n",
              "      <td>-0.035530</td>\n",
              "      <td>-0.404135</td>\n",
              "      <td>-1.094177</td>\n",
              "      <td>0.054849</td>\n",
              "      <td>0.426627</td>\n",
              "      <td>0.032622</td>\n",
              "      <td>12.99</td>\n",
              "      <td>0.0</td>\n",
              "    </tr>\n",
              "    <tr>\n",
              "      <th>10481</th>\n",
              "      <td>17173</td>\n",
              "      <td>0.953532</td>\n",
              "      <td>-1.423232</td>\n",
              "      <td>0.241622</td>\n",
              "      <td>-0.350277</td>\n",
              "      <td>-1.015476</td>\n",
              "      <td>0.305366</td>\n",
              "      <td>-0.785090</td>\n",
              "      <td>0.029761</td>\n",
              "      <td>1.174545</td>\n",
              "      <td>0.051831</td>\n",
              "      <td>-0.342162</td>\n",
              "      <td>-3.929213</td>\n",
              "      <td>0.473591</td>\n",
              "      <td>1.252231</td>\n",
              "      <td>-0.099086</td>\n",
              "      <td>0.972140</td>\n",
              "      <td>1.228961</td>\n",
              "      <td>-1.028239</td>\n",
              "      <td>0.327952</td>\n",
              "      <td>0.389704</td>\n",
              "      <td>0.110373</td>\n",
              "      <td>0.061226</td>\n",
              "      <td>-0.320124</td>\n",
              "      <td>-0.818651</td>\n",
              "      <td>0.389415</td>\n",
              "      <td>-0.117572</td>\n",
              "      <td>-0.037099</td>\n",
              "      <td>0.037618</td>\n",
              "      <td>241.11</td>\n",
              "      <td>0.0</td>\n",
              "    </tr>\n",
              "  </tbody>\n",
              "</table>\n",
              "</div>"
            ],
            "text/plain": [
              "        Time        V1        V2        V3  ...       V27       V28  Amount  Class\n",
              "8120   11027  1.266732 -0.051053  0.535732  ... -0.092579 -0.012657   14.95    0.0\n",
              "15635  27043  1.304407 -0.617224 -0.351864  ...  0.001741  0.040590   85.80    0.0\n",
              "14637  25852  1.093357 -0.305285 -1.215407  ...  0.009522  0.033203  104.59    0.0\n",
              "5957    6604 -1.357564 -0.731763  0.776146  ...  0.426627  0.032622   12.99    0.0\n",
              "10481  17173  0.953532 -1.423232  0.241622  ... -0.037099  0.037618  241.11    0.0\n",
              "\n",
              "[5 rows x 31 columns]"
            ]
          },
          "metadata": {},
          "execution_count": 13
        }
      ]
    },
    {
      "cell_type": "code",
      "metadata": {
        "colab": {
          "base_uri": "https://localhost:8080/"
        },
        "id": "qhX-6Yg-bctU",
        "outputId": "7a02f676-9d72-4d29-a658-86b7a577c9d2"
      },
      "source": [
        "df_new['Class'].value_counts()"
      ],
      "execution_count": 15,
      "outputs": [
        {
          "output_type": "execute_result",
          "data": {
            "text/plain": [
              "1.0    73\n",
              "0.0    73\n",
              "Name: Class, dtype: int64"
            ]
          },
          "metadata": {},
          "execution_count": 15
        }
      ]
    },
    {
      "cell_type": "code",
      "metadata": {
        "id": "BVaFU21Dbz-X"
      },
      "source": [
        "x=df_new.drop(columns='Class',axis=1)\n",
        "y=df_new['Class']"
      ],
      "execution_count": 18,
      "outputs": []
    },
    {
      "cell_type": "code",
      "metadata": {
        "colab": {
          "base_uri": "https://localhost:8080/"
        },
        "id": "QBE5Op24cEdb",
        "outputId": "fe008c1d-7eed-4b17-ac4a-9899e1b434cd"
      },
      "source": [
        "print(x)"
      ],
      "execution_count": 19,
      "outputs": [
        {
          "output_type": "stream",
          "name": "stdout",
          "text": [
            "        Time         V1         V2  ...       V27       V28  Amount\n",
            "8120   11027   1.266732  -0.051053  ... -0.092579 -0.012657   14.95\n",
            "15635  27043   1.304407  -0.617224  ...  0.001741  0.040590   85.80\n",
            "14637  25852   1.093357  -0.305285  ...  0.009522  0.033203  104.59\n",
            "5957    6604  -1.357564  -0.731763  ...  0.426627  0.032622   12.99\n",
            "10481  17173   0.953532  -1.423232  ... -0.037099  0.037618  241.11\n",
            "...      ...        ...        ...  ...       ...       ...     ...\n",
            "15566  26961 -23.237920  13.487386  ...  1.481233  0.438125   99.99\n",
            "15736  27163 -23.914101  13.765942  ...  1.458076  0.430315   99.99\n",
            "15751  27187 -24.590245  14.044567  ...  1.434951  0.422492   99.99\n",
            "15781  27219 -25.266355  14.323254  ...  1.411855  0.414656   99.99\n",
            "15810  27252 -25.942434  14.601998  ...  1.388786  0.406810   99.99\n",
            "\n",
            "[146 rows x 30 columns]\n"
          ]
        }
      ]
    },
    {
      "cell_type": "code",
      "metadata": {
        "colab": {
          "base_uri": "https://localhost:8080/"
        },
        "id": "Dbykm-pFcpF6",
        "outputId": "55a9edbe-b076-4ad4-9b87-c2d70c246926"
      },
      "source": [
        "print(y)"
      ],
      "execution_count": 20,
      "outputs": [
        {
          "output_type": "stream",
          "name": "stdout",
          "text": [
            "8120     0.0\n",
            "15635    0.0\n",
            "14637    0.0\n",
            "5957     0.0\n",
            "10481    0.0\n",
            "        ... \n",
            "15566    1.0\n",
            "15736    1.0\n",
            "15751    1.0\n",
            "15781    1.0\n",
            "15810    1.0\n",
            "Name: Class, Length: 146, dtype: float64\n"
          ]
        }
      ]
    },
    {
      "cell_type": "code",
      "metadata": {
        "id": "sTowyhtUcsw5"
      },
      "source": [
        "x_train,x_test,y_train,y_test=train_test_split(x,y,test_size=0.2,stratify=y,random_state=2)"
      ],
      "execution_count": 21,
      "outputs": []
    },
    {
      "cell_type": "code",
      "metadata": {
        "colab": {
          "base_uri": "https://localhost:8080/"
        },
        "id": "bTg3a-k8dJXS",
        "outputId": "bf9a7831-821f-41ac-fb96-6ef6bedf20bd"
      },
      "source": [
        "print(x.shape,x_train.shape,x_test.shape)"
      ],
      "execution_count": 22,
      "outputs": [
        {
          "output_type": "stream",
          "name": "stdout",
          "text": [
            "(146, 30) (116, 30) (30, 30)\n"
          ]
        }
      ]
    },
    {
      "cell_type": "code",
      "metadata": {
        "id": "Y2jFV421dZ70"
      },
      "source": [
        "model=LogisticRegression()"
      ],
      "execution_count": 23,
      "outputs": []
    },
    {
      "cell_type": "code",
      "metadata": {
        "colab": {
          "base_uri": "https://localhost:8080/"
        },
        "id": "lnife6ohdd1q",
        "outputId": "11c27ae1-e115-48d2-efa9-51e8015e5700"
      },
      "source": [
        "model.fit(x_train, y_train)"
      ],
      "execution_count": 26,
      "outputs": [
        {
          "output_type": "stream",
          "name": "stderr",
          "text": [
            "/usr/local/lib/python3.7/dist-packages/sklearn/linear_model/_logistic.py:940: ConvergenceWarning: lbfgs failed to converge (status=1):\n",
            "STOP: TOTAL NO. of ITERATIONS REACHED LIMIT.\n",
            "\n",
            "Increase the number of iterations (max_iter) or scale the data as shown in:\n",
            "    https://scikit-learn.org/stable/modules/preprocessing.html\n",
            "Please also refer to the documentation for alternative solver options:\n",
            "    https://scikit-learn.org/stable/modules/linear_model.html#logistic-regression\n",
            "  extra_warning_msg=_LOGISTIC_SOLVER_CONVERGENCE_MSG)\n"
          ]
        },
        {
          "output_type": "execute_result",
          "data": {
            "text/plain": [
              "LogisticRegression(C=1.0, class_weight=None, dual=False, fit_intercept=True,\n",
              "                   intercept_scaling=1, l1_ratio=None, max_iter=100,\n",
              "                   multi_class='auto', n_jobs=None, penalty='l2',\n",
              "                   random_state=None, solver='lbfgs', tol=0.0001, verbose=0,\n",
              "                   warm_start=False)"
            ]
          },
          "metadata": {},
          "execution_count": 26
        }
      ]
    },
    {
      "cell_type": "code",
      "metadata": {
        "id": "j4Ov2ZeRdiry"
      },
      "source": [
        "\n",
        "x_train_prediction = model.predict(x_train)\n",
        "training_data_accuracy = accuracy_score(x_train_prediction, y_train)"
      ],
      "execution_count": 27,
      "outputs": []
    },
    {
      "cell_type": "code",
      "metadata": {
        "colab": {
          "base_uri": "https://localhost:8080/"
        },
        "id": "sDE_svlKeh7M",
        "outputId": "76a59c5a-010b-4656-adc9-7c9f9e37aa9d"
      },
      "source": [
        "print('Accuracy on Training data : ', training_data_accuracy)"
      ],
      "execution_count": 28,
      "outputs": [
        {
          "output_type": "stream",
          "name": "stdout",
          "text": [
            "Accuracy on Training data :  0.9827586206896551\n"
          ]
        }
      ]
    },
    {
      "cell_type": "code",
      "metadata": {
        "id": "tizc8QY9elVB"
      },
      "source": [
        "x_test_prediction = model.predict(x_test)\n",
        "test_data_accuracy = accuracy_score(x_test_prediction, y_test)"
      ],
      "execution_count": 29,
      "outputs": []
    },
    {
      "cell_type": "code",
      "metadata": {
        "colab": {
          "base_uri": "https://localhost:8080/"
        },
        "id": "otTvibThesDZ",
        "outputId": "5d93b234-1313-41ca-f263-83316f037fc7"
      },
      "source": [
        "print('Accuracy score on Test Data : ', test_data_accuracy)"
      ],
      "execution_count": 30,
      "outputs": [
        {
          "output_type": "stream",
          "name": "stdout",
          "text": [
            "Accuracy score on Test Data :  0.9\n"
          ]
        }
      ]
    },
    {
      "cell_type": "code",
      "metadata": {
        "id": "Z_HZlDLxeuwr"
      },
      "source": [
        ""
      ],
      "execution_count": null,
      "outputs": []
    }
  ]
}