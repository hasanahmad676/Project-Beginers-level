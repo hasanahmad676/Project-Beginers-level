{
  "nbformat": 4,
  "nbformat_minor": 0,
  "metadata": {
    "colab": {
      "name": "creditcard project.ipynb",
      "provenance": []
    },
    "kernelspec": {
      "name": "python3",
      "display_name": "Python 3"
    },
    "language_info": {
      "name": "python"
    }
  },
  "cells": [
    {
      "cell_type": "code",
      "metadata": {
        "id": "qpiK7-QXNVtU"
      },
      "source": [
        "import pandas as pd\n",
        "import numpy as np\n",
        "from sklearn.model_selection import train_test_split\n",
        "from sklearn.linear_model import LogisticRegression\n",
        "from sklearn.metrics import accuracy_score"
      ],
      "execution_count": 3,
      "outputs": []
    },
    {
      "cell_type": "code",
      "metadata": {
        "id": "7jhyq9AzOPRY"
      },
      "source": [
        "df=pd.read_csv(\"/content/creditcard.csv\")"
      ],
      "execution_count": 4,
      "outputs": []
    },
    {
      "cell_type": "code",
      "metadata": {
        "colab": {
          "base_uri": "https://localhost:8080/",
          "height": 224
        },
        "id": "__43VF1GQ7fG",
        "outputId": "410e0443-f0c9-4b88-9105-e50bfc67dd02"
      },
      "source": [
        "df.head()"
      ],
      "execution_count": 5,
      "outputs": [
        {
          "output_type": "execute_result",
          "data": {
            "text/html": [
              "<div>\n",
              "<style scoped>\n",
              "    .dataframe tbody tr th:only-of-type {\n",
              "        vertical-align: middle;\n",
              "    }\n",
              "\n",
              "    .dataframe tbody tr th {\n",
              "        vertical-align: top;\n",
              "    }\n",
              "\n",
              "    .dataframe thead th {\n",
              "        text-align: right;\n",
              "    }\n",
              "</style>\n",
              "<table border=\"1\" class=\"dataframe\">\n",
              "  <thead>\n",
              "    <tr style=\"text-align: right;\">\n",
              "      <th></th>\n",
              "      <th>Time</th>\n",
              "      <th>V1</th>\n",
              "      <th>V2</th>\n",
              "      <th>V3</th>\n",
              "      <th>V4</th>\n",
              "      <th>V5</th>\n",
              "      <th>V6</th>\n",
              "      <th>V7</th>\n",
              "      <th>V8</th>\n",
              "      <th>V9</th>\n",
              "      <th>V10</th>\n",
              "      <th>V11</th>\n",
              "      <th>V12</th>\n",
              "      <th>V13</th>\n",
              "      <th>V14</th>\n",
              "      <th>V15</th>\n",
              "      <th>V16</th>\n",
              "      <th>V17</th>\n",
              "      <th>V18</th>\n",
              "      <th>V19</th>\n",
              "      <th>V20</th>\n",
              "      <th>V21</th>\n",
              "      <th>V22</th>\n",
              "      <th>V23</th>\n",
              "      <th>V24</th>\n",
              "      <th>V25</th>\n",
              "      <th>V26</th>\n",
              "      <th>V27</th>\n",
              "      <th>V28</th>\n",
              "      <th>Amount</th>\n",
              "      <th>Class</th>\n",
              "    </tr>\n",
              "  </thead>\n",
              "  <tbody>\n",
              "    <tr>\n",
              "      <th>0</th>\n",
              "      <td>0</td>\n",
              "      <td>-1.359807</td>\n",
              "      <td>-0.072781</td>\n",
              "      <td>2.536347</td>\n",
              "      <td>1.378155</td>\n",
              "      <td>-0.338321</td>\n",
              "      <td>0.462388</td>\n",
              "      <td>0.239599</td>\n",
              "      <td>0.098698</td>\n",
              "      <td>0.363787</td>\n",
              "      <td>0.090794</td>\n",
              "      <td>-0.551600</td>\n",
              "      <td>-0.617801</td>\n",
              "      <td>-0.991390</td>\n",
              "      <td>-0.311169</td>\n",
              "      <td>1.468177</td>\n",
              "      <td>-0.470401</td>\n",
              "      <td>0.207971</td>\n",
              "      <td>0.025791</td>\n",
              "      <td>0.403993</td>\n",
              "      <td>0.251412</td>\n",
              "      <td>-0.018307</td>\n",
              "      <td>0.277838</td>\n",
              "      <td>-0.110474</td>\n",
              "      <td>0.066928</td>\n",
              "      <td>0.128539</td>\n",
              "      <td>-0.189115</td>\n",
              "      <td>0.133558</td>\n",
              "      <td>-0.021053</td>\n",
              "      <td>149.62</td>\n",
              "      <td>0.0</td>\n",
              "    </tr>\n",
              "    <tr>\n",
              "      <th>1</th>\n",
              "      <td>0</td>\n",
              "      <td>1.191857</td>\n",
              "      <td>0.266151</td>\n",
              "      <td>0.166480</td>\n",
              "      <td>0.448154</td>\n",
              "      <td>0.060018</td>\n",
              "      <td>-0.082361</td>\n",
              "      <td>-0.078803</td>\n",
              "      <td>0.085102</td>\n",
              "      <td>-0.255425</td>\n",
              "      <td>-0.166974</td>\n",
              "      <td>1.612727</td>\n",
              "      <td>1.065235</td>\n",
              "      <td>0.489095</td>\n",
              "      <td>-0.143772</td>\n",
              "      <td>0.635558</td>\n",
              "      <td>0.463917</td>\n",
              "      <td>-0.114805</td>\n",
              "      <td>-0.183361</td>\n",
              "      <td>-0.145783</td>\n",
              "      <td>-0.069083</td>\n",
              "      <td>-0.225775</td>\n",
              "      <td>-0.638672</td>\n",
              "      <td>0.101288</td>\n",
              "      <td>-0.339846</td>\n",
              "      <td>0.167170</td>\n",
              "      <td>0.125895</td>\n",
              "      <td>-0.008983</td>\n",
              "      <td>0.014724</td>\n",
              "      <td>2.69</td>\n",
              "      <td>0.0</td>\n",
              "    </tr>\n",
              "    <tr>\n",
              "      <th>2</th>\n",
              "      <td>1</td>\n",
              "      <td>-1.358354</td>\n",
              "      <td>-1.340163</td>\n",
              "      <td>1.773209</td>\n",
              "      <td>0.379780</td>\n",
              "      <td>-0.503198</td>\n",
              "      <td>1.800499</td>\n",
              "      <td>0.791461</td>\n",
              "      <td>0.247676</td>\n",
              "      <td>-1.514654</td>\n",
              "      <td>0.207643</td>\n",
              "      <td>0.624501</td>\n",
              "      <td>0.066084</td>\n",
              "      <td>0.717293</td>\n",
              "      <td>-0.165946</td>\n",
              "      <td>2.345865</td>\n",
              "      <td>-2.890083</td>\n",
              "      <td>1.109969</td>\n",
              "      <td>-0.121359</td>\n",
              "      <td>-2.261857</td>\n",
              "      <td>0.524980</td>\n",
              "      <td>0.247998</td>\n",
              "      <td>0.771679</td>\n",
              "      <td>0.909412</td>\n",
              "      <td>-0.689281</td>\n",
              "      <td>-0.327642</td>\n",
              "      <td>-0.139097</td>\n",
              "      <td>-0.055353</td>\n",
              "      <td>-0.059752</td>\n",
              "      <td>378.66</td>\n",
              "      <td>0.0</td>\n",
              "    </tr>\n",
              "    <tr>\n",
              "      <th>3</th>\n",
              "      <td>1</td>\n",
              "      <td>-0.966272</td>\n",
              "      <td>-0.185226</td>\n",
              "      <td>1.792993</td>\n",
              "      <td>-0.863291</td>\n",
              "      <td>-0.010309</td>\n",
              "      <td>1.247203</td>\n",
              "      <td>0.237609</td>\n",
              "      <td>0.377436</td>\n",
              "      <td>-1.387024</td>\n",
              "      <td>-0.054952</td>\n",
              "      <td>-0.226487</td>\n",
              "      <td>0.178228</td>\n",
              "      <td>0.507757</td>\n",
              "      <td>-0.287924</td>\n",
              "      <td>-0.631418</td>\n",
              "      <td>-1.059647</td>\n",
              "      <td>-0.684093</td>\n",
              "      <td>1.965775</td>\n",
              "      <td>-1.232622</td>\n",
              "      <td>-0.208038</td>\n",
              "      <td>-0.108300</td>\n",
              "      <td>0.005274</td>\n",
              "      <td>-0.190321</td>\n",
              "      <td>-1.175575</td>\n",
              "      <td>0.647376</td>\n",
              "      <td>-0.221929</td>\n",
              "      <td>0.062723</td>\n",
              "      <td>0.061458</td>\n",
              "      <td>123.50</td>\n",
              "      <td>0.0</td>\n",
              "    </tr>\n",
              "    <tr>\n",
              "      <th>4</th>\n",
              "      <td>2</td>\n",
              "      <td>-1.158233</td>\n",
              "      <td>0.877737</td>\n",
              "      <td>1.548718</td>\n",
              "      <td>0.403034</td>\n",
              "      <td>-0.407193</td>\n",
              "      <td>0.095921</td>\n",
              "      <td>0.592941</td>\n",
              "      <td>-0.270533</td>\n",
              "      <td>0.817739</td>\n",
              "      <td>0.753074</td>\n",
              "      <td>-0.822843</td>\n",
              "      <td>0.538196</td>\n",
              "      <td>1.345852</td>\n",
              "      <td>-1.119670</td>\n",
              "      <td>0.175121</td>\n",
              "      <td>-0.451449</td>\n",
              "      <td>-0.237033</td>\n",
              "      <td>-0.038195</td>\n",
              "      <td>0.803487</td>\n",
              "      <td>0.408542</td>\n",
              "      <td>-0.009431</td>\n",
              "      <td>0.798278</td>\n",
              "      <td>-0.137458</td>\n",
              "      <td>0.141267</td>\n",
              "      <td>-0.206010</td>\n",
              "      <td>0.502292</td>\n",
              "      <td>0.219422</td>\n",
              "      <td>0.215153</td>\n",
              "      <td>69.99</td>\n",
              "      <td>0.0</td>\n",
              "    </tr>\n",
              "  </tbody>\n",
              "</table>\n",
              "</div>"
            ],
            "text/plain": [
              "   Time        V1        V2        V3  ...       V27       V28  Amount  Class\n",
              "0     0 -1.359807 -0.072781  2.536347  ...  0.133558 -0.021053  149.62    0.0\n",
              "1     0  1.191857  0.266151  0.166480  ... -0.008983  0.014724    2.69    0.0\n",
              "2     1 -1.358354 -1.340163  1.773209  ... -0.055353 -0.059752  378.66    0.0\n",
              "3     1 -0.966272 -0.185226  1.792993  ...  0.062723  0.061458  123.50    0.0\n",
              "4     2 -1.158233  0.877737  1.548718  ...  0.219422  0.215153   69.99    0.0\n",
              "\n",
              "[5 rows x 31 columns]"
            ]
          },
          "metadata": {},
          "execution_count": 5
        }
      ]
    },
    {
      "cell_type": "code",
      "metadata": {
        "colab": {
          "base_uri": "https://localhost:8080/"
        },
        "id": "yrlRhfHSRAJk",
        "outputId": "49df6b54-208d-429e-e997-94d95c1d9505"
      },
      "source": [
        "df.info()"
      ],
      "execution_count": 8,
      "outputs": [
        {
          "output_type": "stream",
          "name": "stdout",
          "text": [
            "<class 'pandas.core.frame.DataFrame'>\n",
            "RangeIndex: 114962 entries, 0 to 114961\n",
            "Data columns (total 31 columns):\n",
            " #   Column  Non-Null Count   Dtype  \n",
            "---  ------  --------------   -----  \n",
            " 0   Time    114962 non-null  int64  \n",
            " 1   V1      114962 non-null  float64\n",
            " 2   V2      114962 non-null  float64\n",
            " 3   V3      114962 non-null  float64\n",
            " 4   V4      114962 non-null  float64\n",
            " 5   V5      114962 non-null  float64\n",
            " 6   V6      114962 non-null  float64\n",
            " 7   V7      114962 non-null  float64\n",
            " 8   V8      114962 non-null  float64\n",
            " 9   V9      114962 non-null  float64\n",
            " 10  V10     114962 non-null  float64\n",
            " 11  V11     114962 non-null  float64\n",
            " 12  V12     114961 non-null  float64\n",
            " 13  V13     114961 non-null  float64\n",
            " 14  V14     114961 non-null  float64\n",
            " 15  V15     114961 non-null  float64\n",
            " 16  V16     114961 non-null  float64\n",
            " 17  V17     114961 non-null  float64\n",
            " 18  V18     114961 non-null  float64\n",
            " 19  V19     114961 non-null  float64\n",
            " 20  V20     114961 non-null  float64\n",
            " 21  V21     114961 non-null  float64\n",
            " 22  V22     114961 non-null  float64\n",
            " 23  V23     114961 non-null  float64\n",
            " 24  V24     114961 non-null  float64\n",
            " 25  V25     114961 non-null  float64\n",
            " 26  V26     114961 non-null  float64\n",
            " 27  V27     114961 non-null  float64\n",
            " 28  V28     114961 non-null  float64\n",
            " 29  Amount  114961 non-null  float64\n",
            " 30  Class   114961 non-null  float64\n",
            "dtypes: float64(30), int64(1)\n",
            "memory usage: 27.2 MB\n"
          ]
        }
      ]
    },
    {
      "cell_type": "code",
      "metadata": {
        "colab": {
          "base_uri": "https://localhost:8080/"
        },
        "id": "p_SI-IqcRHnE",
        "outputId": "e86491ae-ae41-4b6a-dbed-614f9ef7612b"
      },
      "source": [
        "df.isnull().sum()"
      ],
      "execution_count": 9,
      "outputs": [
        {
          "output_type": "execute_result",
          "data": {
            "text/plain": [
              "Time      0\n",
              "V1        0\n",
              "V2        0\n",
              "V3        0\n",
              "V4        0\n",
              "V5        0\n",
              "V6        0\n",
              "V7        0\n",
              "V8        0\n",
              "V9        0\n",
              "V10       0\n",
              "V11       0\n",
              "V12       1\n",
              "V13       1\n",
              "V14       1\n",
              "V15       1\n",
              "V16       1\n",
              "V17       1\n",
              "V18       1\n",
              "V19       1\n",
              "V20       1\n",
              "V21       1\n",
              "V22       1\n",
              "V23       1\n",
              "V24       1\n",
              "V25       1\n",
              "V26       1\n",
              "V27       1\n",
              "V28       1\n",
              "Amount    1\n",
              "Class     1\n",
              "dtype: int64"
            ]
          },
          "metadata": {},
          "execution_count": 9
        }
      ]
    },
    {
      "cell_type": "code",
      "metadata": {
        "colab": {
          "base_uri": "https://localhost:8080/"
        },
        "id": "RsCxKSYwRUY9",
        "outputId": "49319a53-ff6a-4ec5-b754-71a9b4d6d60e"
      },
      "source": [
        "df['Class'].value_counts()"
      ],
      "execution_count": 10,
      "outputs": [
        {
          "output_type": "execute_result",
          "data": {
            "text/plain": [
              "0.0    114719\n",
              "1.0       242\n",
              "Name: Class, dtype: int64"
            ]
          },
          "metadata": {},
          "execution_count": 10
        }
      ]
    },
    {
      "cell_type": "code",
      "metadata": {
        "id": "pYS8qK-yRgWP"
      },
      "source": [
        "real=df[df.Class == 0]\n",
        "fraud=df[df.Class == 1]"
      ],
      "execution_count": 12,
      "outputs": []
    },
    {
      "cell_type": "code",
      "metadata": {
        "colab": {
          "base_uri": "https://localhost:8080/"
        },
        "id": "IaCTOr49R2Ne",
        "outputId": "560106b5-0ece-4893-d183-59efb5097566"
      },
      "source": [
        "print(real.shape,fraud.shape)"
      ],
      "execution_count": 13,
      "outputs": [
        {
          "output_type": "stream",
          "name": "stdout",
          "text": [
            "(114719, 31) (242, 31)\n"
          ]
        }
      ]
    },
    {
      "cell_type": "code",
      "metadata": {
        "colab": {
          "base_uri": "https://localhost:8080/"
        },
        "id": "RPGqq2RcSLWe",
        "outputId": "1860c234-8ee0-414d-c8da-612d99eb7526"
      },
      "source": [
        "real. Amount.describe()"
      ],
      "execution_count": 14,
      "outputs": [
        {
          "output_type": "execute_result",
          "data": {
            "text/plain": [
              "count    114719.000000\n",
              "mean         94.859137\n",
              "std         257.024232\n",
              "min           0.000000\n",
              "25%           6.990000\n",
              "50%          25.000000\n",
              "75%          85.250000\n",
              "max       19656.530000\n",
              "Name: Amount, dtype: float64"
            ]
          },
          "metadata": {},
          "execution_count": 14
        }
      ]
    },
    {
      "cell_type": "code",
      "metadata": {
        "colab": {
          "base_uri": "https://localhost:8080/"
        },
        "id": "zsqTzmzpTGr_",
        "outputId": "aeac9db1-f5ee-4de6-90a3-198fe5dacc15"
      },
      "source": [
        "fraud.Amount.describe()"
      ],
      "execution_count": 15,
      "outputs": [
        {
          "output_type": "execute_result",
          "data": {
            "text/plain": [
              "count     242.000000\n",
              "mean      119.435331\n",
              "std       254.330814\n",
              "min         0.000000\n",
              "25%         1.000000\n",
              "50%         8.565000\n",
              "75%        99.990000\n",
              "max      1809.680000\n",
              "Name: Amount, dtype: float64"
            ]
          },
          "metadata": {},
          "execution_count": 15
        }
      ]
    },
    {
      "cell_type": "code",
      "metadata": {
        "colab": {
          "base_uri": "https://localhost:8080/",
          "height": 162
        },
        "id": "4w1VVlOVTMEO",
        "outputId": "3e0ce63a-658c-4157-bcb3-d4d1c5c71e3a"
      },
      "source": [
        "df.groupby('Class').mean()"
      ],
      "execution_count": 16,
      "outputs": [
        {
          "output_type": "execute_result",
          "data": {
            "text/html": [
              "<div>\n",
              "<style scoped>\n",
              "    .dataframe tbody tr th:only-of-type {\n",
              "        vertical-align: middle;\n",
              "    }\n",
              "\n",
              "    .dataframe tbody tr th {\n",
              "        vertical-align: top;\n",
              "    }\n",
              "\n",
              "    .dataframe thead th {\n",
              "        text-align: right;\n",
              "    }\n",
              "</style>\n",
              "<table border=\"1\" class=\"dataframe\">\n",
              "  <thead>\n",
              "    <tr style=\"text-align: right;\">\n",
              "      <th></th>\n",
              "      <th>Time</th>\n",
              "      <th>V1</th>\n",
              "      <th>V2</th>\n",
              "      <th>V3</th>\n",
              "      <th>V4</th>\n",
              "      <th>V5</th>\n",
              "      <th>V6</th>\n",
              "      <th>V7</th>\n",
              "      <th>V8</th>\n",
              "      <th>V9</th>\n",
              "      <th>V10</th>\n",
              "      <th>V11</th>\n",
              "      <th>V12</th>\n",
              "      <th>V13</th>\n",
              "      <th>V14</th>\n",
              "      <th>V15</th>\n",
              "      <th>V16</th>\n",
              "      <th>V17</th>\n",
              "      <th>V18</th>\n",
              "      <th>V19</th>\n",
              "      <th>V20</th>\n",
              "      <th>V21</th>\n",
              "      <th>V22</th>\n",
              "      <th>V23</th>\n",
              "      <th>V24</th>\n",
              "      <th>V25</th>\n",
              "      <th>V26</th>\n",
              "      <th>V27</th>\n",
              "      <th>V28</th>\n",
              "      <th>Amount</th>\n",
              "    </tr>\n",
              "    <tr>\n",
              "      <th>Class</th>\n",
              "      <th></th>\n",
              "      <th></th>\n",
              "      <th></th>\n",
              "      <th></th>\n",
              "      <th></th>\n",
              "      <th></th>\n",
              "      <th></th>\n",
              "      <th></th>\n",
              "      <th></th>\n",
              "      <th></th>\n",
              "      <th></th>\n",
              "      <th></th>\n",
              "      <th></th>\n",
              "      <th></th>\n",
              "      <th></th>\n",
              "      <th></th>\n",
              "      <th></th>\n",
              "      <th></th>\n",
              "      <th></th>\n",
              "      <th></th>\n",
              "      <th></th>\n",
              "      <th></th>\n",
              "      <th></th>\n",
              "      <th></th>\n",
              "      <th></th>\n",
              "      <th></th>\n",
              "      <th></th>\n",
              "      <th></th>\n",
              "      <th></th>\n",
              "      <th></th>\n",
              "    </tr>\n",
              "  </thead>\n",
              "  <tbody>\n",
              "    <tr>\n",
              "      <th>0.0</th>\n",
              "      <td>46095.931415</td>\n",
              "      <td>-0.242322</td>\n",
              "      <td>-0.023224</td>\n",
              "      <td>0.698223</td>\n",
              "      <td>0.145973</td>\n",
              "      <td>-0.274923</td>\n",
              "      <td>0.096444</td>\n",
              "      <td>-0.102075</td>\n",
              "      <td>0.055820</td>\n",
              "      <td>-0.063634</td>\n",
              "      <td>-0.005629</td>\n",
              "      <td>0.220439</td>\n",
              "      <td>-0.016801</td>\n",
              "      <td>-0.009752</td>\n",
              "      <td>0.058315</td>\n",
              "      <td>0.199086</td>\n",
              "      <td>0.007049</td>\n",
              "      <td>0.069893</td>\n",
              "      <td>-0.088327</td>\n",
              "      <td>-0.019707</td>\n",
              "      <td>0.042648</td>\n",
              "      <td>-0.036798</td>\n",
              "      <td>-0.110409</td>\n",
              "      <td>-0.036248</td>\n",
              "      <td>0.011349</td>\n",
              "      <td>0.132138</td>\n",
              "      <td>0.026597</td>\n",
              "      <td>-0.000104</td>\n",
              "      <td>0.001924</td>\n",
              "      <td>94.859137</td>\n",
              "    </tr>\n",
              "    <tr>\n",
              "      <th>1.0</th>\n",
              "      <td>39270.280992</td>\n",
              "      <td>-5.942308</td>\n",
              "      <td>4.133122</td>\n",
              "      <td>-7.591109</td>\n",
              "      <td>4.716339</td>\n",
              "      <td>-4.227089</td>\n",
              "      <td>-1.524018</td>\n",
              "      <td>-6.307479</td>\n",
              "      <td>1.589037</td>\n",
              "      <td>-2.723048</td>\n",
              "      <td>-5.928648</td>\n",
              "      <td>4.288542</td>\n",
              "      <td>-6.718097</td>\n",
              "      <td>-0.080281</td>\n",
              "      <td>-7.390018</td>\n",
              "      <td>0.211112</td>\n",
              "      <td>-4.705020</td>\n",
              "      <td>-7.838852</td>\n",
              "      <td>-2.828544</td>\n",
              "      <td>0.762127</td>\n",
              "      <td>0.260058</td>\n",
              "      <td>1.348273</td>\n",
              "      <td>-0.332768</td>\n",
              "      <td>-0.105461</td>\n",
              "      <td>-0.111634</td>\n",
              "      <td>0.210822</td>\n",
              "      <td>0.086947</td>\n",
              "      <td>0.533591</td>\n",
              "      <td>0.065613</td>\n",
              "      <td>119.435331</td>\n",
              "    </tr>\n",
              "  </tbody>\n",
              "</table>\n",
              "</div>"
            ],
            "text/plain": [
              "               Time        V1        V2  ...       V27       V28      Amount\n",
              "Class                                    ...                                \n",
              "0.0    46095.931415 -0.242322 -0.023224  ... -0.000104  0.001924   94.859137\n",
              "1.0    39270.280992 -5.942308  4.133122  ...  0.533591  0.065613  119.435331\n",
              "\n",
              "[2 rows x 30 columns]"
            ]
          },
          "metadata": {},
          "execution_count": 16
        }
      ]
    },
    {
      "cell_type": "code",
      "metadata": {
        "id": "cERX-MceTfYQ"
      },
      "source": [
        "real_sample=real.sample(n=242)"
      ],
      "execution_count": 17,
      "outputs": []
    },
    {
      "cell_type": "code",
      "metadata": {
        "id": "nWHpgaG8UD9v"
      },
      "source": [
        "df_new=pd.concat([real_sample,fraud],axis=0)"
      ],
      "execution_count": 18,
      "outputs": []
    },
    {
      "cell_type": "code",
      "metadata": {
        "colab": {
          "base_uri": "https://localhost:8080/",
          "height": 224
        },
        "id": "QPxI0dYFU1pA",
        "outputId": "8492c08e-be11-49e8-8990-c416e721aad7"
      },
      "source": [
        "df_new.head()"
      ],
      "execution_count": 19,
      "outputs": [
        {
          "output_type": "execute_result",
          "data": {
            "text/html": [
              "<div>\n",
              "<style scoped>\n",
              "    .dataframe tbody tr th:only-of-type {\n",
              "        vertical-align: middle;\n",
              "    }\n",
              "\n",
              "    .dataframe tbody tr th {\n",
              "        vertical-align: top;\n",
              "    }\n",
              "\n",
              "    .dataframe thead th {\n",
              "        text-align: right;\n",
              "    }\n",
              "</style>\n",
              "<table border=\"1\" class=\"dataframe\">\n",
              "  <thead>\n",
              "    <tr style=\"text-align: right;\">\n",
              "      <th></th>\n",
              "      <th>Time</th>\n",
              "      <th>V1</th>\n",
              "      <th>V2</th>\n",
              "      <th>V3</th>\n",
              "      <th>V4</th>\n",
              "      <th>V5</th>\n",
              "      <th>V6</th>\n",
              "      <th>V7</th>\n",
              "      <th>V8</th>\n",
              "      <th>V9</th>\n",
              "      <th>V10</th>\n",
              "      <th>V11</th>\n",
              "      <th>V12</th>\n",
              "      <th>V13</th>\n",
              "      <th>V14</th>\n",
              "      <th>V15</th>\n",
              "      <th>V16</th>\n",
              "      <th>V17</th>\n",
              "      <th>V18</th>\n",
              "      <th>V19</th>\n",
              "      <th>V20</th>\n",
              "      <th>V21</th>\n",
              "      <th>V22</th>\n",
              "      <th>V23</th>\n",
              "      <th>V24</th>\n",
              "      <th>V25</th>\n",
              "      <th>V26</th>\n",
              "      <th>V27</th>\n",
              "      <th>V28</th>\n",
              "      <th>Amount</th>\n",
              "      <th>Class</th>\n",
              "    </tr>\n",
              "  </thead>\n",
              "  <tbody>\n",
              "    <tr>\n",
              "      <th>92323</th>\n",
              "      <td>63877</td>\n",
              "      <td>1.157991</td>\n",
              "      <td>-0.014467</td>\n",
              "      <td>-0.508259</td>\n",
              "      <td>0.208086</td>\n",
              "      <td>0.355320</td>\n",
              "      <td>-0.231141</td>\n",
              "      <td>0.406719</td>\n",
              "      <td>-0.122038</td>\n",
              "      <td>-0.374231</td>\n",
              "      <td>0.076084</td>\n",
              "      <td>0.444478</td>\n",
              "      <td>0.579270</td>\n",
              "      <td>0.145138</td>\n",
              "      <td>0.631025</td>\n",
              "      <td>0.158754</td>\n",
              "      <td>0.576167</td>\n",
              "      <td>-0.921409</td>\n",
              "      <td>0.015051</td>\n",
              "      <td>0.811331</td>\n",
              "      <td>0.118541</td>\n",
              "      <td>-0.357541</td>\n",
              "      <td>-1.291026</td>\n",
              "      <td>-0.084393</td>\n",
              "      <td>-0.833809</td>\n",
              "      <td>0.379905</td>\n",
              "      <td>0.183930</td>\n",
              "      <td>-0.085574</td>\n",
              "      <td>0.002358</td>\n",
              "      <td>91.90</td>\n",
              "      <td>0.0</td>\n",
              "    </tr>\n",
              "    <tr>\n",
              "      <th>29145</th>\n",
              "      <td>35340</td>\n",
              "      <td>1.521060</td>\n",
              "      <td>-0.895652</td>\n",
              "      <td>0.593763</td>\n",
              "      <td>-1.256367</td>\n",
              "      <td>-1.693915</td>\n",
              "      <td>-1.215128</td>\n",
              "      <td>-0.918436</td>\n",
              "      <td>-0.268437</td>\n",
              "      <td>-1.869469</td>\n",
              "      <td>1.445687</td>\n",
              "      <td>-0.182711</td>\n",
              "      <td>-0.761345</td>\n",
              "      <td>0.457669</td>\n",
              "      <td>-0.294581</td>\n",
              "      <td>0.539889</td>\n",
              "      <td>-0.498974</td>\n",
              "      <td>0.625827</td>\n",
              "      <td>-0.153008</td>\n",
              "      <td>-0.363556</td>\n",
              "      <td>-0.363437</td>\n",
              "      <td>-0.200423</td>\n",
              "      <td>-0.155467</td>\n",
              "      <td>0.086399</td>\n",
              "      <td>0.701132</td>\n",
              "      <td>0.349367</td>\n",
              "      <td>-0.225711</td>\n",
              "      <td>0.032848</td>\n",
              "      <td>0.022237</td>\n",
              "      <td>1.00</td>\n",
              "      <td>0.0</td>\n",
              "    </tr>\n",
              "    <tr>\n",
              "      <th>97330</th>\n",
              "      <td>66167</td>\n",
              "      <td>1.091269</td>\n",
              "      <td>-0.029638</td>\n",
              "      <td>0.550462</td>\n",
              "      <td>1.161388</td>\n",
              "      <td>-0.377692</td>\n",
              "      <td>-0.021024</td>\n",
              "      <td>-0.117432</td>\n",
              "      <td>0.091759</td>\n",
              "      <td>0.283994</td>\n",
              "      <td>-0.014691</td>\n",
              "      <td>0.659655</td>\n",
              "      <td>0.994376</td>\n",
              "      <td>-0.285187</td>\n",
              "      <td>0.162942</td>\n",
              "      <td>-0.806069</td>\n",
              "      <td>0.037556</td>\n",
              "      <td>-0.431889</td>\n",
              "      <td>0.087451</td>\n",
              "      <td>0.450999</td>\n",
              "      <td>-0.056980</td>\n",
              "      <td>-0.215888</td>\n",
              "      <td>-0.585137</td>\n",
              "      <td>-0.046561</td>\n",
              "      <td>-0.009550</td>\n",
              "      <td>0.487897</td>\n",
              "      <td>-0.546228</td>\n",
              "      <td>0.026426</td>\n",
              "      <td>0.021669</td>\n",
              "      <td>49.99</td>\n",
              "      <td>0.0</td>\n",
              "    </tr>\n",
              "    <tr>\n",
              "      <th>37352</th>\n",
              "      <td>38918</td>\n",
              "      <td>1.095599</td>\n",
              "      <td>-1.083928</td>\n",
              "      <td>0.094691</td>\n",
              "      <td>-0.868967</td>\n",
              "      <td>-0.781687</td>\n",
              "      <td>0.166806</td>\n",
              "      <td>-0.635015</td>\n",
              "      <td>0.165454</td>\n",
              "      <td>-0.830001</td>\n",
              "      <td>0.704824</td>\n",
              "      <td>0.925340</td>\n",
              "      <td>-0.615293</td>\n",
              "      <td>-0.955669</td>\n",
              "      <td>0.296983</td>\n",
              "      <td>0.564110</td>\n",
              "      <td>1.414884</td>\n",
              "      <td>0.066538</td>\n",
              "      <td>-1.135622</td>\n",
              "      <td>0.761936</td>\n",
              "      <td>0.281941</td>\n",
              "      <td>0.010613</td>\n",
              "      <td>-0.467981</td>\n",
              "      <td>-0.042642</td>\n",
              "      <td>-0.707483</td>\n",
              "      <td>0.127172</td>\n",
              "      <td>-0.437805</td>\n",
              "      <td>-0.012501</td>\n",
              "      <td>0.024232</td>\n",
              "      <td>150.00</td>\n",
              "      <td>0.0</td>\n",
              "    </tr>\n",
              "    <tr>\n",
              "      <th>96802</th>\n",
              "      <td>65943</td>\n",
              "      <td>0.698032</td>\n",
              "      <td>-0.986674</td>\n",
              "      <td>-0.118035</td>\n",
              "      <td>1.986494</td>\n",
              "      <td>1.292889</td>\n",
              "      <td>4.927379</td>\n",
              "      <td>-1.081580</td>\n",
              "      <td>1.226386</td>\n",
              "      <td>0.546096</td>\n",
              "      <td>0.283641</td>\n",
              "      <td>-1.253522</td>\n",
              "      <td>0.205999</td>\n",
              "      <td>-0.176973</td>\n",
              "      <td>-0.716488</td>\n",
              "      <td>-1.479793</td>\n",
              "      <td>0.375203</td>\n",
              "      <td>-0.431036</td>\n",
              "      <td>0.233386</td>\n",
              "      <td>-0.233185</td>\n",
              "      <td>0.406665</td>\n",
              "      <td>0.112603</td>\n",
              "      <td>0.055422</td>\n",
              "      <td>-0.365904</td>\n",
              "      <td>1.062496</td>\n",
              "      <td>0.653309</td>\n",
              "      <td>0.217077</td>\n",
              "      <td>0.021560</td>\n",
              "      <td>0.064117</td>\n",
              "      <td>233.32</td>\n",
              "      <td>0.0</td>\n",
              "    </tr>\n",
              "  </tbody>\n",
              "</table>\n",
              "</div>"
            ],
            "text/plain": [
              "        Time        V1        V2        V3  ...       V27       V28  Amount  Class\n",
              "92323  63877  1.157991 -0.014467 -0.508259  ... -0.085574  0.002358   91.90    0.0\n",
              "29145  35340  1.521060 -0.895652  0.593763  ...  0.032848  0.022237    1.00    0.0\n",
              "97330  66167  1.091269 -0.029638  0.550462  ...  0.026426  0.021669   49.99    0.0\n",
              "37352  38918  1.095599 -1.083928  0.094691  ... -0.012501  0.024232  150.00    0.0\n",
              "96802  65943  0.698032 -0.986674 -0.118035  ...  0.021560  0.064117  233.32    0.0\n",
              "\n",
              "[5 rows x 31 columns]"
            ]
          },
          "metadata": {},
          "execution_count": 19
        }
      ]
    },
    {
      "cell_type": "code",
      "metadata": {
        "colab": {
          "base_uri": "https://localhost:8080/"
        },
        "id": "AOUkYzMaU8UW",
        "outputId": "868a5747-7739-44c2-c95b-0ba4b1bb2d06"
      },
      "source": [
        "df_new['Class'].value_counts()"
      ],
      "execution_count": 20,
      "outputs": [
        {
          "output_type": "execute_result",
          "data": {
            "text/plain": [
              "1.0    242\n",
              "0.0    242\n",
              "Name: Class, dtype: int64"
            ]
          },
          "metadata": {},
          "execution_count": 20
        }
      ]
    },
    {
      "cell_type": "code",
      "metadata": {
        "id": "BqUlAeF_VFxO"
      },
      "source": [
        "X = df_new.drop(columns='Class', axis=1)\n",
        "Y = df_new['Class']"
      ],
      "execution_count": 21,
      "outputs": []
    },
    {
      "cell_type": "code",
      "metadata": {
        "colab": {
          "base_uri": "https://localhost:8080/"
        },
        "id": "U954yPgvVSvv",
        "outputId": "65fb3e49-e524-42f1-98cf-9e876194ca24"
      },
      "source": [
        "print(X)"
      ],
      "execution_count": 23,
      "outputs": [
        {
          "output_type": "stream",
          "name": "stdout",
          "text": [
            "         Time        V1        V2  ...       V27       V28  Amount\n",
            "92323   63877  1.157991 -0.014467  ... -0.085574  0.002358   91.90\n",
            "29145   35340  1.521060 -0.895652  ...  0.032848  0.022237    1.00\n",
            "97330   66167  1.091269 -0.029638  ...  0.026426  0.021669   49.99\n",
            "37352   38918  1.095599 -1.083928  ... -0.012501  0.024232  150.00\n",
            "96802   65943  0.698032 -0.986674  ...  0.021560  0.064117  233.32\n",
            "...       ...       ...       ...  ...       ...       ...     ...\n",
            "108258  70828  0.196707  1.189757  ...  0.135215  0.257315    0.76\n",
            "108708  71033 -3.170818  0.185735  ...  0.859282  0.225924  426.40\n",
            "111690  72327 -4.198735  0.194121  ...  1.249414 -0.131525  238.90\n",
            "112840  72824 -1.111495 -0.257575  ...  0.026762 -0.358335   45.03\n",
            "114271  73408 -2.869795  1.335667  ...  0.349191  0.198862   16.48\n",
            "\n",
            "[484 rows x 30 columns]\n"
          ]
        }
      ]
    },
    {
      "cell_type": "code",
      "metadata": {
        "colab": {
          "base_uri": "https://localhost:8080/"
        },
        "id": "HFm4ATHeVVzu",
        "outputId": "7e3b2c4c-8f83-45b8-88d1-563d2f04a854"
      },
      "source": [
        "print(Y)"
      ],
      "execution_count": 24,
      "outputs": [
        {
          "output_type": "stream",
          "name": "stdout",
          "text": [
            "92323     0.0\n",
            "29145     0.0\n",
            "97330     0.0\n",
            "37352     0.0\n",
            "96802     0.0\n",
            "         ... \n",
            "108258    1.0\n",
            "108708    1.0\n",
            "111690    1.0\n",
            "112840    1.0\n",
            "114271    1.0\n",
            "Name: Class, Length: 484, dtype: float64\n"
          ]
        }
      ]
    },
    {
      "cell_type": "code",
      "metadata": {
        "id": "f8m95GCWVfK2"
      },
      "source": [
        "X_train, X_test, Y_train, Y_test = train_test_split(X, Y, test_size=0.2, stratify=Y, random_state=2)"
      ],
      "execution_count": 25,
      "outputs": []
    },
    {
      "cell_type": "code",
      "metadata": {
        "colab": {
          "base_uri": "https://localhost:8080/"
        },
        "id": "AF2U7Y8dVksu",
        "outputId": "05a24db9-9a35-4d60-ce76-10efe1e60d91"
      },
      "source": [
        "print(X.shape, X_train.shape, X_test.shape)"
      ],
      "execution_count": 26,
      "outputs": [
        {
          "output_type": "stream",
          "name": "stdout",
          "text": [
            "(484, 30) (387, 30) (97, 30)\n"
          ]
        }
      ]
    },
    {
      "cell_type": "code",
      "metadata": {
        "id": "u_BiHHUoVnd-"
      },
      "source": [
        "model = LogisticRegression()"
      ],
      "execution_count": 27,
      "outputs": []
    },
    {
      "cell_type": "code",
      "metadata": {
        "colab": {
          "base_uri": "https://localhost:8080/"
        },
        "id": "X5EL13m4WCE3",
        "outputId": "dd12cd9e-8863-40dd-e5f7-e032d767caf4"
      },
      "source": [
        "model.fit(X_train, Y_train)"
      ],
      "execution_count": 28,
      "outputs": [
        {
          "output_type": "execute_result",
          "data": {
            "text/plain": [
              "LogisticRegression(C=1.0, class_weight=None, dual=False, fit_intercept=True,\n",
              "                   intercept_scaling=1, l1_ratio=None, max_iter=100,\n",
              "                   multi_class='auto', n_jobs=None, penalty='l2',\n",
              "                   random_state=None, solver='lbfgs', tol=0.0001, verbose=0,\n",
              "                   warm_start=False)"
            ]
          },
          "metadata": {},
          "execution_count": 28
        }
      ]
    },
    {
      "cell_type": "code",
      "metadata": {
        "id": "0DxAyuN9WF2u"
      },
      "source": [
        "\n",
        "X_train_prediction = model.predict(X_train)\n",
        "training_data_accuracy = accuracy_score(X_train_prediction, Y_train)"
      ],
      "execution_count": 29,
      "outputs": []
    },
    {
      "cell_type": "code",
      "metadata": {
        "colab": {
          "base_uri": "https://localhost:8080/"
        },
        "id": "shTk03J1WQXu",
        "outputId": "80edf138-7069-4014-b585-b8a6f9b0fe44"
      },
      "source": [
        "print('Accuracy on Training data : ', training_data_accuracy)"
      ],
      "execution_count": 30,
      "outputs": [
        {
          "output_type": "stream",
          "name": "stdout",
          "text": [
            "Accuracy on Training data :  0.9431524547803618\n"
          ]
        }
      ]
    },
    {
      "cell_type": "code",
      "metadata": {
        "id": "nh4utHN_WTJJ"
      },
      "source": [
        "X_test_prediction = model.predict(X_test)\n",
        "test_data_accuracy = accuracy_score(X_test_prediction, Y_test)"
      ],
      "execution_count": 31,
      "outputs": []
    },
    {
      "cell_type": "code",
      "metadata": {
        "colab": {
          "base_uri": "https://localhost:8080/"
        },
        "id": "lMAY-EUFWVf5",
        "outputId": "769429eb-800a-4197-cf69-082e156143dd"
      },
      "source": [
        "print('Accuracy score on Test Data : ', test_data_accuracy)"
      ],
      "execution_count": 32,
      "outputs": [
        {
          "output_type": "stream",
          "name": "stdout",
          "text": [
            "Accuracy score on Test Data :  0.9587628865979382\n"
          ]
        }
      ]
    },
    {
      "cell_type": "code",
      "metadata": {
        "id": "yQNaiO8dWXoh"
      },
      "source": [
        ""
      ],
      "execution_count": null,
      "outputs": []
    }
  ]
}